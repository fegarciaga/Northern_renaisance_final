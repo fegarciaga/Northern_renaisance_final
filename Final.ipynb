{
 "cells": [
  {
   "cell_type": "code",
   "execution_count": 13,
   "id": "395c3447-6acf-47c1-80ff-b996423aacaf",
   "metadata": {},
   "outputs": [
    {
     "name": "stdin",
     "output_type": "stream",
     "text": [
      "Enter your character's name:  Fede\n"
     ]
    },
    {
     "name": "stdout",
     "output_type": "stream",
     "text": [
      "You are a very talented, 10 years old painter apprentice in...\n"
     ]
    },
    {
     "name": "stdin",
     "output_type": "stream",
     "text": [
      " 1: 's-Hertogenbosch (modern Netherlands) \n",
      " 2: Breisach (modern Germany)\n",
      " 2\n"
     ]
    },
    {
     "name": "stdout",
     "output_type": "stream",
     "text": [
      "You work in Martin Schongauer's workshop, a talented printmaker. He has told you to focus on woodcut and engraving technique\n",
      "as you'll assist him with lesser details in his small prints. You are expected to complete your masterwork within a five year period\n",
      "Fede \t 10 \t 50 \t 0 \t 0 \t 0\n",
      "0 \t 0 \t 0 \t 0 \t 0 \t 1\n",
      "0 \t 0 \t 36.93165907369926\n",
      "Another six months have passed, time to organize\n",
      "\n",
      "0 \t 0 \t 1\n"
     ]
    },
    {
     "name": "stdin",
     "output_type": "stream",
     "text": [
      " 6. Practice painting techniques \n",
      " 2. Seek inspiration \n",
      " 3. Rest \n",
      " 6\n"
     ]
    },
    {
     "name": "stdout",
     "output_type": "stream",
     "text": [
      "Your painting techniques have improved!\n",
      "Name: Fede\n",
      "Age: 10.5\n",
      "Morale: 55/100\n",
      "Works: 0\n",
      "Another six months have passed, time to organize\n",
      "\n",
      "0 \t 0 \t 1\n"
     ]
    },
    {
     "name": "stdin",
     "output_type": "stream",
     "text": [
      " 6. Practice painting techniques \n",
      " 2. Seek inspiration \n",
      " 3. Rest \n",
      " 6\n"
     ]
    },
    {
     "name": "stdout",
     "output_type": "stream",
     "text": [
      "Your painting techniques have improved!\n",
      "Name: Fede\n",
      "Age: 11.0\n",
      "Morale: 60/100\n",
      "Works: 0\n",
      "Another six months have passed, time to organize\n",
      "\n",
      "0 \t 0 \t 1\n"
     ]
    },
    {
     "name": "stdin",
     "output_type": "stream",
     "text": [
      " 6. Practice painting techniques \n",
      " 2. Seek inspiration \n",
      " 3. Rest \n",
      " 6\n"
     ]
    },
    {
     "name": "stdout",
     "output_type": "stream",
     "text": [
      "Failed to improve your techniques. Morale decreased.\n",
      "Name: Fede\n",
      "Age: 11.5\n",
      "Morale: 55/100\n",
      "Works: 0\n",
      "Another six months have passed, time to organize\n",
      "\n",
      "0 \t 0 \t 1\n"
     ]
    },
    {
     "name": "stdin",
     "output_type": "stream",
     "text": [
      " 6. Practice painting techniques \n",
      " 2. Seek inspiration \n",
      " 3. Rest \n",
      " 6\n"
     ]
    },
    {
     "name": "stdout",
     "output_type": "stream",
     "text": [
      "Your painting techniques have improved!\n",
      "Name: Fede\n",
      "Age: 12.0\n",
      "Morale: 60/100\n",
      "Works: 0\n",
      "Another six months have passed, time to organize\n",
      "\n",
      "0 \t 0 \t 1\n"
     ]
    },
    {
     "name": "stdin",
     "output_type": "stream",
     "text": [
      " 6. Practice painting techniques \n",
      " 2. Seek inspiration \n",
      " 3. Rest \n",
      " 6\n"
     ]
    },
    {
     "name": "stdout",
     "output_type": "stream",
     "text": [
      "Your painting techniques have improved!\n",
      "Name: Fede\n",
      "Age: 12.5\n",
      "Morale: 65/100\n",
      "Works: 0\n",
      "Another six months have passed, time to organize\n",
      "\n",
      "0 \t 0 \t 1\n"
     ]
    },
    {
     "name": "stdin",
     "output_type": "stream",
     "text": [
      " 6. Practice painting techniques \n",
      " 2. Seek inspiration \n",
      " 3. Rest \n",
      " 6\n"
     ]
    },
    {
     "name": "stdout",
     "output_type": "stream",
     "text": [
      "Your painting techniques have improved!\n",
      "Name: Fede\n",
      "Age: 13.0\n",
      "Morale: 70/100\n",
      "Works: 0\n",
      "Another six months have passed, time to organize\n",
      "\n",
      "0 \t 0 \t 1\n"
     ]
    },
    {
     "name": "stdin",
     "output_type": "stream",
     "text": [
      " 6. Practice painting techniques \n",
      " 2. Seek inspiration \n",
      " 3. Rest \n",
      " 6\n"
     ]
    },
    {
     "name": "stdout",
     "output_type": "stream",
     "text": [
      "Your painting techniques have improved!\n",
      "Name: Fede\n",
      "Age: 13.5\n",
      "Morale: 75/100\n",
      "Works: 0\n",
      "Another six months have passed, time to organize\n",
      "\n",
      "0 \t 0 \t 1\n"
     ]
    },
    {
     "name": "stdin",
     "output_type": "stream",
     "text": [
      " 6. Practice painting techniques \n",
      " 2. Seek inspiration \n",
      " 3. Rest \n",
      " 6\n"
     ]
    },
    {
     "name": "stdout",
     "output_type": "stream",
     "text": [
      "Your painting techniques have improved!\n",
      "Name: Fede\n",
      "Age: 14.0\n",
      "Morale: 80/100\n",
      "Works: 0\n",
      "Another six months have passed, time to organize\n",
      "\n",
      "0 \t 0 \t 1\n"
     ]
    },
    {
     "name": "stdin",
     "output_type": "stream",
     "text": [
      " 6. Practice painting techniques \n",
      " 2. Seek inspiration \n",
      " 3. Rest \n",
      " 2\n"
     ]
    },
    {
     "name": "stdout",
     "output_type": "stream",
     "text": [
      "Failed to find inspiration. Morale decreased.\n",
      "Name: Fede\n",
      "Age: 14.5\n",
      "Morale: 75/100\n",
      "Works: 0\n",
      "Another six months have passed, time to organize\n",
      "\n",
      "0 \t 0 \t 1\n"
     ]
    },
    {
     "name": "stdin",
     "output_type": "stream",
     "text": [
      " 6. Practice painting techniques \n",
      " 2. Seek inspiration \n",
      " 3. Rest \n",
      " 6\n"
     ]
    },
    {
     "name": "stdout",
     "output_type": "stream",
     "text": [
      "Your painting techniques have improved!\n",
      "Name: Fede\n",
      "Age: 15.0\n",
      "Morale: 80/100\n",
      "Works: 0\n",
      "Congratulations! Fede has successfully completed their masterwork and graduated from apprenticeship.\n",
      "Another six months have passed, time to organize\n",
      "\n",
      "0 \t 0 \t 0\n"
     ]
    },
    {
     "name": "stdin",
     "output_type": "stream",
     "text": [
      " 2. Seek inspiration \n",
      " 5. Seek sponsor \n",
      " 3. Rest 2\n"
     ]
    },
    {
     "name": "stdout",
     "output_type": "stream",
     "text": [
      "Failed to find inspiration. Morale decreased.\n",
      "Name: Fede\n",
      "Age: 15.5\n",
      "Morale: 75/100\n",
      "Works: 0\n",
      "Another six months have passed, time to organize\n",
      "\n",
      "0 \t 0 \t 0\n"
     ]
    },
    {
     "name": "stdin",
     "output_type": "stream",
     "text": [
      " 2. Seek inspiration \n",
      " 5. Seek sponsor \n",
      " 3. Rest 2\n"
     ]
    },
    {
     "name": "stdout",
     "output_type": "stream",
     "text": [
      "Failed to find inspiration. Morale decreased.\n",
      "Name: Fede\n",
      "Age: 16.0\n",
      "Morale: 70/100\n",
      "Works: 0\n",
      "Another six months have passed, time to organize\n",
      "\n",
      "0 \t 0 \t 0\n"
     ]
    },
    {
     "name": "stdin",
     "output_type": "stream",
     "text": [
      " 2. Seek inspiration \n",
      " 5. Seek sponsor \n",
      " 3. Rest 2\n"
     ]
    },
    {
     "name": "stdout",
     "output_type": "stream",
     "text": [
      "You feel inspired! Morale increased.\n",
      "Name: Fede\n",
      "Age: 16.5\n",
      "Morale: 80/100\n",
      "Works: 1\n",
      "Another six months have passed, time to organize\n",
      "\n",
      "1 \t 0 \t 0\n"
     ]
    },
    {
     "name": "stdin",
     "output_type": "stream",
     "text": [
      " 1. Work on idea \n",
      " 2. Seek inspiration \n",
      " 3. Rest \n",
      " 5. Seek sponsor \n",
      " 1\n"
     ]
    },
    {
     "name": "stdout",
     "output_type": "stream",
     "text": [
      "You successfully developed the new idea into a project\n",
      "Name: Fede\n",
      "Age: 17.0\n",
      "Morale: 80/100\n",
      "Works: 1\n",
      "Another six months have passed, time to organize\n",
      "\n",
      "1 \t 1 \t 0\n"
     ]
    },
    {
     "name": "stdin",
     "output_type": "stream",
     "text": [
      " 1. Work on idea \n",
      " 2. Seek inspiration \n",
      " 3. Rest \n",
      " 4. Work on project \n",
      " 4\n"
     ]
    },
    {
     "name": "stdout",
     "output_type": "stream",
     "text": [
      "You made progress on your project!\n",
      "Name: Fede\n",
      "Age: 17.5\n",
      "Morale: 80/100\n",
      "Works: 1\n",
      "Another six months have passed, time to organize\n",
      "\n",
      "1 \t 1 \t 0\n"
     ]
    },
    {
     "name": "stdin",
     "output_type": "stream",
     "text": [
      " 1. Work on idea \n",
      " 2. Seek inspiration \n",
      " 3. Rest \n",
      " 4. Work on project \n",
      " 4\n"
     ]
    },
    {
     "name": "stdout",
     "output_type": "stream",
     "text": [
      "You made progress on your project!\n",
      "Name: Fede\n",
      "Age: 18.0\n",
      "Morale: 80/100\n",
      "Works: 1\n",
      "Another six months have passed, time to organize\n",
      "\n",
      "1 \t 1 \t 0\n"
     ]
    },
    {
     "name": "stdin",
     "output_type": "stream",
     "text": [
      " 1. Work on idea \n",
      " 2. Seek inspiration \n",
      " 3. Rest \n",
      " 4. Work on project \n",
      " 4\n"
     ]
    },
    {
     "name": "stdout",
     "output_type": "stream",
     "text": [
      "You made progress on your project!\n",
      "Name: Fede\n",
      "Age: 18.5\n",
      "Morale: 80/100\n",
      "Works: 1\n",
      "Another six months have passed, time to organize\n",
      "\n",
      "1 \t 1 \t 0\n"
     ]
    },
    {
     "name": "stdin",
     "output_type": "stream",
     "text": [
      " 1. Work on idea \n",
      " 2. Seek inspiration \n",
      " 3. Rest \n",
      " 4. Work on project \n",
      " 4\n"
     ]
    },
    {
     "name": "stdout",
     "output_type": "stream",
     "text": [
      "Failed to make progress on the project. Morale decreased.\n",
      "Name: Fede\n",
      "Age: 19.0\n",
      "Morale: 75/100\n",
      "Works: 1\n",
      "Another six months have passed, time to organize\n",
      "\n",
      "1 \t 1 \t 0\n"
     ]
    },
    {
     "name": "stdin",
     "output_type": "stream",
     "text": [
      " 1. Work on idea \n",
      " 2. Seek inspiration \n",
      " 3. Rest \n",
      " 4. Work on project \n",
      " 5\n"
     ]
    },
    {
     "name": "stdout",
     "output_type": "stream",
     "text": [
      "Failed to find a sponsor. Morale decreased.\n",
      "Name: Fede\n",
      "Age: 19.5\n",
      "Morale: 70/100\n",
      "Works: 1\n",
      "Another six months have passed, time to organize\n",
      "\n",
      "1 \t 1 \t 0\n"
     ]
    },
    {
     "name": "stdin",
     "output_type": "stream",
     "text": [
      " 1. Work on idea \n",
      " 2. Seek inspiration \n",
      " 3. Rest \n",
      " 4. Work on project \n",
      " 5\n"
     ]
    },
    {
     "name": "stdout",
     "output_type": "stream",
     "text": [
      "You found a sponsor and gained a project!\n",
      "Name: Fede\n",
      "Age: 20.0\n",
      "Morale: 70/100\n",
      "Works: 1\n",
      "Another six months have passed, time to organize\n",
      "\n",
      "1 \t 2 \t 0\n"
     ]
    },
    {
     "name": "stdin",
     "output_type": "stream",
     "text": [
      " 1. Work on idea \n",
      " 2. Seek inspiration \n",
      " 3. Rest \n",
      " 4. Work on project \n",
      " 1\n"
     ]
    },
    {
     "name": "stdout",
     "output_type": "stream",
     "text": [
      "You successfully developed the new idea into a project\n",
      "Name: Fede\n",
      "Age: 20.5\n",
      "Morale: 70/100\n",
      "Works: 1\n",
      "Another six months have passed, time to organize\n",
      "\n",
      "1 \t 3 \t 0\n"
     ]
    },
    {
     "name": "stdin",
     "output_type": "stream",
     "text": [
      " 1. Work on idea \n",
      " 2. Seek inspiration \n",
      " 3. Rest \n",
      " 4. Work on project \n",
      " 4\n"
     ]
    },
    {
     "name": "stdout",
     "output_type": "stream",
     "text": [
      "Failed to make progress on the project. Morale decreased.\n",
      "Name: Fede\n",
      "Age: 21.0\n",
      "Morale: 65/100\n",
      "Works: 1\n",
      "Another six months have passed, time to organize\n",
      "\n",
      "1 \t 3 \t 0\n"
     ]
    },
    {
     "name": "stdin",
     "output_type": "stream",
     "text": [
      " 1. Work on idea \n",
      " 2. Seek inspiration \n",
      " 3. Rest \n",
      " 4. Work on project \n",
      " 6\n"
     ]
    },
    {
     "name": "stdout",
     "output_type": "stream",
     "text": [
      "Failed to improve your techniques. Morale decreased.\n",
      "Name: Fede\n",
      "Age: 21.5\n",
      "Morale: 60/100\n",
      "Works: 1\n",
      "Another six months have passed, time to organize\n",
      "\n",
      "1 \t 3 \t 0\n"
     ]
    },
    {
     "name": "stdin",
     "output_type": "stream",
     "text": [
      " 1. Work on idea \n",
      " 2. Seek inspiration \n",
      " 3. Rest \n",
      " 4. Work on project \n",
      " 4\n"
     ]
    },
    {
     "name": "stdout",
     "output_type": "stream",
     "text": [
      "You made progress on your project!\n",
      "Name: Fede\n",
      "Age: 22.0\n",
      "Morale: 60/100\n",
      "Works: 1\n",
      "Another six months have passed, time to organize\n",
      "\n",
      "1 \t 3 \t 0\n"
     ]
    },
    {
     "name": "stdin",
     "output_type": "stream",
     "text": [
      " 1. Work on idea \n",
      " 2. Seek inspiration \n",
      " 3. Rest \n",
      " 4. Work on project \n",
      " 4\n"
     ]
    },
    {
     "name": "stdout",
     "output_type": "stream",
     "text": [
      "You made progress on your project!\n",
      "Name: Fede\n",
      "Age: 22.5\n",
      "Morale: 60/100\n",
      "Works: 1\n",
      "Another six months have passed, time to organize\n",
      "\n",
      "1 \t 3 \t 0\n"
     ]
    },
    {
     "name": "stdin",
     "output_type": "stream",
     "text": [
      " 1. Work on idea \n",
      " 2. Seek inspiration \n",
      " 3. Rest \n",
      " 4. Work on project \n",
      " 5\n"
     ]
    },
    {
     "name": "stdout",
     "output_type": "stream",
     "text": [
      "You found a sponsor and gained a project!\n",
      "Name: Fede\n",
      "Age: 23.0\n",
      "Morale: 60/100\n",
      "Works: 1\n",
      "Another six months have passed, time to organize\n",
      "\n",
      "1 \t 4 \t 0\n"
     ]
    },
    {
     "name": "stdin",
     "output_type": "stream",
     "text": [
      " 1. Work on idea \n",
      " 2. Seek inspiration \n",
      " 3. Rest \n",
      " 4. Work on project \n",
      " 3\n"
     ]
    },
    {
     "name": "stdout",
     "output_type": "stream",
     "text": [
      "You rested well. Morale slightly increased.\n",
      "Name: Fede\n",
      "Age: 23.5\n",
      "Morale: 65/100\n",
      "Works: 1\n",
      "Another six months have passed, time to organize\n",
      "\n",
      "1 \t 4 \t 0\n"
     ]
    },
    {
     "name": "stdin",
     "output_type": "stream",
     "text": [
      " 1. Work on idea \n",
      " 2. Seek inspiration \n",
      " 3. Rest \n",
      " 4. Work on project \n",
      " 1\n"
     ]
    },
    {
     "name": "stdout",
     "output_type": "stream",
     "text": [
      "You successfully developed the new idea into a project\n",
      "Name: Fede\n",
      "Age: 24.0\n",
      "Morale: 65/100\n",
      "Works: 1\n",
      "Another six months have passed, time to organize\n",
      "\n",
      "1 \t 5 \t 0\n"
     ]
    },
    {
     "name": "stdin",
     "output_type": "stream",
     "text": [
      " 1. Work on idea \n",
      " 2. Seek inspiration \n",
      " 3. Rest \n",
      " 4. Work on project \n",
      " 2\n"
     ]
    },
    {
     "name": "stdout",
     "output_type": "stream",
     "text": [
      "Failed to find inspiration. Morale decreased.\n",
      "Name: Fede\n",
      "Age: 24.5\n",
      "Morale: 60/100\n",
      "Works: 1\n",
      "Another six months have passed, time to organize\n",
      "\n",
      "1 \t 5 \t 0\n"
     ]
    },
    {
     "name": "stdin",
     "output_type": "stream",
     "text": [
      " 1. Work on idea \n",
      " 2. Seek inspiration \n",
      " 3. Rest \n",
      " 4. Work on project \n",
      " 3\n"
     ]
    },
    {
     "name": "stdout",
     "output_type": "stream",
     "text": [
      "Rest was not effective. Morale decreased.\n",
      "Name: Fede\n",
      "Age: 25.0\n",
      "Morale: 55/100\n",
      "Works: 1\n",
      "Another six months have passed, time to organize\n",
      "\n",
      "1 \t 5 \t 0\n"
     ]
    },
    {
     "name": "stdin",
     "output_type": "stream",
     "text": [
      " 1. Work on idea \n",
      " 2. Seek inspiration \n",
      " 3. Rest \n",
      " 4. Work on project \n",
      " 4\n"
     ]
    },
    {
     "name": "stdout",
     "output_type": "stream",
     "text": [
      "You made progress on your project!\n",
      "Name: Fede\n",
      "Age: 25.5\n",
      "Morale: 55/100\n",
      "Works: 1\n",
      "Another six months have passed, time to organize\n",
      "\n",
      "1 \t 5 \t 0\n"
     ]
    },
    {
     "name": "stdin",
     "output_type": "stream",
     "text": [
      " 1. Work on idea \n",
      " 2. Seek inspiration \n",
      " 3. Rest \n",
      " 4. Work on project \n",
      " 1\n"
     ]
    },
    {
     "name": "stdout",
     "output_type": "stream",
     "text": [
      "You successfully developed the new idea into a project\n",
      "Name: Fede\n",
      "Age: 26.0\n",
      "Morale: 55/100\n",
      "Works: 1\n",
      "Another six months have passed, time to organize\n",
      "\n",
      "1 \t 6 \t 0\n"
     ]
    },
    {
     "name": "stdin",
     "output_type": "stream",
     "text": [
      " 1. Work on idea \n",
      " 2. Seek inspiration \n",
      " 3. Rest \n",
      " 4. Work on project \n",
      " 2\n"
     ]
    },
    {
     "name": "stdout",
     "output_type": "stream",
     "text": [
      "You feel inspired! Morale increased.\n",
      "Name: Fede\n",
      "Age: 26.5\n",
      "Morale: 65/100\n",
      "Works: 2\n",
      "Another six months have passed, time to organize\n",
      "\n",
      "2 \t 6 \t 0\n"
     ]
    },
    {
     "name": "stdin",
     "output_type": "stream",
     "text": [
      " 1. Work on idea \n",
      " 2. Seek inspiration \n",
      " 3. Rest \n",
      " 4. Work on project \n",
      " 3\n"
     ]
    },
    {
     "name": "stdout",
     "output_type": "stream",
     "text": [
      "You rested well. Morale slightly increased.\n",
      "Name: Fede\n",
      "Age: 27.0\n",
      "Morale: 70/100\n",
      "Works: 2\n",
      "Another six months have passed, time to organize\n",
      "\n",
      "2 \t 6 \t 0\n"
     ]
    },
    {
     "name": "stdin",
     "output_type": "stream",
     "text": [
      " 1. Work on idea \n",
      " 2. Seek inspiration \n",
      " 3. Rest \n",
      " 4. Work on project \n",
      " 4\n"
     ]
    },
    {
     "name": "stdout",
     "output_type": "stream",
     "text": [
      "Failed to make progress on the project. Morale decreased.\n",
      "Name: Fede\n",
      "Age: 27.5\n",
      "Morale: 65/100\n",
      "Works: 2\n",
      "Another six months have passed, time to organize\n",
      "\n",
      "2 \t 6 \t 0\n"
     ]
    },
    {
     "name": "stdin",
     "output_type": "stream",
     "text": [
      " 1. Work on idea \n",
      " 2. Seek inspiration \n",
      " 3. Rest \n",
      " 4. Work on project \n",
      " 1\n"
     ]
    },
    {
     "name": "stdout",
     "output_type": "stream",
     "text": [
      "You successfully developed the new idea into a project\n",
      "Name: Fede\n",
      "Age: 28.0\n",
      "Morale: 65/100\n",
      "Works: 2\n",
      "Another six months have passed, time to organize\n",
      "\n",
      "2 \t 7 \t 0\n"
     ]
    },
    {
     "name": "stdin",
     "output_type": "stream",
     "text": [
      " 1. Work on idea \n",
      " 2. Seek inspiration \n",
      " 3. Rest \n",
      " 4. Work on project \n",
      " 2\n"
     ]
    },
    {
     "name": "stdout",
     "output_type": "stream",
     "text": [
      "You feel inspired! Morale increased.\n",
      "Name: Fede\n",
      "Age: 28.5\n",
      "Morale: 75/100\n",
      "Works: 3\n",
      "Another six months have passed, time to organize\n",
      "\n",
      "3 \t 7 \t 0\n"
     ]
    },
    {
     "name": "stdin",
     "output_type": "stream",
     "text": [
      " 1. Work on idea \n",
      " 2. Seek inspiration \n",
      " 3. Rest \n",
      " 4. Work on project \n",
      " 3\n"
     ]
    },
    {
     "name": "stdout",
     "output_type": "stream",
     "text": [
      "You rested well. Morale slightly increased.\n",
      "Name: Fede\n",
      "Age: 29.0\n",
      "Morale: 80/100\n",
      "Works: 3\n",
      "Another six months have passed, time to organize\n",
      "\n",
      "3 \t 7 \t 0\n"
     ]
    },
    {
     "name": "stdin",
     "output_type": "stream",
     "text": [
      " 1. Work on idea \n",
      " 2. Seek inspiration \n",
      " 3. Rest \n",
      " 4. Work on project \n",
      " 4\n"
     ]
    },
    {
     "name": "stdout",
     "output_type": "stream",
     "text": [
      "Failed to make progress on the project. Morale decreased.\n",
      "Name: Fede\n",
      "Age: 29.5\n",
      "Morale: 75/100\n",
      "Works: 3\n",
      "Another six months have passed, time to organize\n",
      "\n",
      "3 \t 7 \t 0\n"
     ]
    },
    {
     "name": "stdin",
     "output_type": "stream",
     "text": [
      " 1. Work on idea \n",
      " 2. Seek inspiration \n",
      " 3. Rest \n",
      " 4. Work on project \n",
      " 1\n"
     ]
    },
    {
     "name": "stdout",
     "output_type": "stream",
     "text": [
      "You successfully developed the new idea into a project\n",
      "Name: Fede\n",
      "Age: 30.0\n",
      "Morale: 75/100\n",
      "Works: 3\n",
      "Another six months have passed, time to organize\n",
      "\n",
      "3 \t 8 \t 0\n"
     ]
    },
    {
     "name": "stdin",
     "output_type": "stream",
     "text": [
      " 1. Work on idea \n",
      " 2. Seek inspiration \n",
      " 3. Rest \n",
      " 4. Work on project \n",
      " 2\n"
     ]
    },
    {
     "name": "stdout",
     "output_type": "stream",
     "text": [
      "Failed to find inspiration. Morale decreased.\n",
      "Name: Fede\n",
      "Age: 30.5\n",
      "Morale: 70/100\n",
      "Works: 3\n",
      "Another six months have passed, time to organize\n",
      "\n",
      "3 \t 8 \t 0\n"
     ]
    },
    {
     "name": "stdin",
     "output_type": "stream",
     "text": [
      " 1. Work on idea \n",
      " 2. Seek inspiration \n",
      " 3. Rest \n",
      " 4. Work on project \n",
      " 3\n"
     ]
    },
    {
     "name": "stdout",
     "output_type": "stream",
     "text": [
      "Rest was not effective. Morale decreased.\n",
      "Name: Fede\n",
      "Age: 31.0\n",
      "Morale: 65/100\n",
      "Works: 3\n",
      "Another six months have passed, time to organize\n",
      "\n",
      "3 \t 8 \t 0\n"
     ]
    },
    {
     "name": "stdin",
     "output_type": "stream",
     "text": [
      " 1. Work on idea \n",
      " 2. Seek inspiration \n",
      " 3. Rest \n",
      " 4. Work on project \n",
      " 4\n"
     ]
    },
    {
     "name": "stdout",
     "output_type": "stream",
     "text": [
      "You made progress on your project!\n",
      "Name: Fede\n",
      "Age: 31.5\n",
      "Morale: 65/100\n",
      "Works: 3\n",
      "Another six months have passed, time to organize\n",
      "\n",
      "3 \t 8 \t 0\n"
     ]
    },
    {
     "name": "stdin",
     "output_type": "stream",
     "text": [
      " 1. Work on idea \n",
      " 2. Seek inspiration \n",
      " 3. Rest \n",
      " 4. Work on project \n",
      " 1\n"
     ]
    },
    {
     "name": "stdout",
     "output_type": "stream",
     "text": [
      "You successfully developed the new idea into a project\n",
      "Name: Fede\n",
      "Age: 32.0\n",
      "Morale: 65/100\n",
      "Works: 3\n",
      "Another six months have passed, time to organize\n",
      "\n",
      "3 \t 9 \t 0\n"
     ]
    },
    {
     "name": "stdin",
     "output_type": "stream",
     "text": [
      " 1. Work on idea \n",
      " 2. Seek inspiration \n",
      " 3. Rest \n",
      " 4. Work on project \n",
      " 2\n"
     ]
    },
    {
     "name": "stdout",
     "output_type": "stream",
     "text": [
      "You feel inspired! Morale increased.\n",
      "Name: Fede\n",
      "Age: 32.5\n",
      "Morale: 75/100\n",
      "Works: 4\n",
      "Another six months have passed, time to organize\n",
      "\n",
      "4 \t 9 \t 0\n"
     ]
    },
    {
     "name": "stdin",
     "output_type": "stream",
     "text": [
      " 1. Work on idea \n",
      " 2. Seek inspiration \n",
      " 3. Rest \n",
      " 4. Work on project \n",
      " 3\n"
     ]
    },
    {
     "name": "stdout",
     "output_type": "stream",
     "text": [
      "Rest was not effective. Morale decreased.\n",
      "Name: Fede\n",
      "Age: 33.0\n",
      "Morale: 70/100\n",
      "Works: 4\n",
      "Another six months have passed, time to organize\n",
      "\n",
      "4 \t 9 \t 0\n"
     ]
    },
    {
     "name": "stdin",
     "output_type": "stream",
     "text": [
      " 1. Work on idea \n",
      " 2. Seek inspiration \n",
      " 3. Rest \n",
      " 4. Work on project \n",
      " 5\n"
     ]
    },
    {
     "name": "stdout",
     "output_type": "stream",
     "text": [
      "You found a sponsor and gained a project!\n",
      "Name: Fede\n",
      "Age: 33.5\n",
      "Morale: 70/100\n",
      "Works: 4\n",
      "Another six months have passed, time to organize\n",
      "\n",
      "4 \t 10 \t 0\n"
     ]
    },
    {
     "name": "stdin",
     "output_type": "stream",
     "text": [
      " 1. Work on idea \n",
      " 2. Seek inspiration \n",
      " 3. Rest \n",
      " 4. Work on project \n",
      " 1\n"
     ]
    },
    {
     "name": "stdout",
     "output_type": "stream",
     "text": [
      "You successfully developed the new idea into a project\n",
      "Name: Fede\n",
      "Age: 34.0\n",
      "Morale: 70/100\n",
      "Works: 4\n",
      "Another six months have passed, time to organize\n",
      "\n",
      "4 \t 11 \t 0\n"
     ]
    },
    {
     "name": "stdin",
     "output_type": "stream",
     "text": [
      " 1. Work on idea \n",
      " 2. Seek inspiration \n",
      " 3. Rest \n",
      " 4. Work on project \n",
      " 2\n"
     ]
    },
    {
     "name": "stdout",
     "output_type": "stream",
     "text": [
      "Failed to find inspiration. Morale decreased.\n",
      "Name: Fede\n",
      "Age: 34.5\n",
      "Morale: 65/100\n",
      "Works: 4\n",
      "Another six months have passed, time to organize\n",
      "\n",
      "4 \t 11 \t 0\n"
     ]
    },
    {
     "name": "stdin",
     "output_type": "stream",
     "text": [
      " 1. Work on idea \n",
      " 2. Seek inspiration \n",
      " 3. Rest \n",
      " 4. Work on project \n",
      " 3\n"
     ]
    },
    {
     "name": "stdout",
     "output_type": "stream",
     "text": [
      "Rest was not effective. Morale decreased.\n",
      "Name: Fede\n",
      "Age: 35.0\n",
      "Morale: 60/100\n",
      "Works: 4\n",
      "Another six months have passed, time to organize\n",
      "\n",
      "4 \t 11 \t 0\n"
     ]
    },
    {
     "name": "stdin",
     "output_type": "stream",
     "text": [
      " 1. Work on idea \n",
      " 2. Seek inspiration \n",
      " 3. Rest \n",
      " 4. Work on project \n",
      " 4\n"
     ]
    },
    {
     "name": "stdout",
     "output_type": "stream",
     "text": [
      "Failed to make progress on the project. Morale decreased.\n",
      "Name: Fede\n",
      "Age: 35.5\n",
      "Morale: 55/100\n",
      "Works: 4\n",
      "Another six months have passed, time to organize\n",
      "\n",
      "4 \t 11 \t 0\n"
     ]
    },
    {
     "name": "stdin",
     "output_type": "stream",
     "text": [
      " 1. Work on idea \n",
      " 2. Seek inspiration \n",
      " 3. Rest \n",
      " 4. Work on project \n",
      " 1\n"
     ]
    },
    {
     "name": "stdout",
     "output_type": "stream",
     "text": [
      "You successfully developed the new idea into a project\n",
      "Name: Fede\n",
      "Age: 36.0\n",
      "Morale: 55/100\n",
      "Works: 4\n",
      "Another six months have passed, time to organize\n",
      "\n",
      "4 \t 12 \t 0\n"
     ]
    },
    {
     "name": "stdin",
     "output_type": "stream",
     "text": [
      " 1. Work on idea \n",
      " 2. Seek inspiration \n",
      " 3. Rest \n",
      " 4. Work on project \n",
      " 2\n"
     ]
    },
    {
     "name": "stdout",
     "output_type": "stream",
     "text": [
      "Failed to find inspiration. Morale decreased.\n",
      "Name: Fede\n",
      "Age: 36.5\n",
      "Morale: 50/100\n",
      "Works: 4\n",
      "Another six months have passed, time to organize\n",
      "\n",
      "4 \t 12 \t 0\n"
     ]
    },
    {
     "name": "stdin",
     "output_type": "stream",
     "text": [
      " 1. Work on idea \n",
      " 2. Seek inspiration \n",
      " 3. Rest \n",
      " 4. Work on project \n",
      " 2\n"
     ]
    },
    {
     "name": "stdout",
     "output_type": "stream",
     "text": [
      "You feel inspired! Morale increased.\n",
      "Fede has died at the age of 37.0 years.\n",
      "Name: Fede\n",
      "Age: 37.0\n",
      "Morale: 60/100\n",
      "Works: 5\n",
      "Name: Fede\n",
      "Age: 37.0\n",
      "Morale: 60/100\n",
      "Works: 5\n"
     ]
    }
   ],
   "source": [
    "import random\n",
    "import math\n",
    "\n",
    "class Character:\n",
    "    def __init__(self, name, age=10, morale=50, projects=0, ideas=0, compositions=0, funding=0, color=0, bias1=0, bias2=0, passe=1, status=0, works=0):\n",
    "        \"\"\"\n",
    "        Init character\n",
    "        \"\"\"\n",
    "        # Printable characteristics\n",
    "        self.name = name\n",
    "        self.age = age\n",
    "        self.morale = morale\n",
    "        self.projects = projects\n",
    "        self.ideas = ideas\n",
    "        self.compositions = compositions\n",
    "        self.funding = funding\n",
    "        self.color = color\n",
    "        self.works = works\n",
    "        # non-printable\n",
    "        self.bias1 = bias1\n",
    "        self.bias2 = bias2\n",
    "        self.passe = passe\n",
    "        self.status = status\n",
    "        self.masterwork_progress = 0\n",
    "        self.lifespan = random.gauss(40, 5)\n",
    "\n",
    "    def basic_turn(self):\n",
    "        \"\"\"\n",
    "        Basic turn\n",
    "        \"\"\"\n",
    "        print(\"Another six months have passed, time to organize\\n\")\n",
    "        print(self.ideas, \"\\t\", self.projects, \"\\t\", self.passe, \"\\t\", self.compositions, \"\\t\", self.color, \"\\t\", self.funding)\n",
    "        if self.passe == 1:\n",
    "            if self.ideas > 0:\n",
    "                if self.projects > 0:\n",
    "                    action = int(input(\" 1. Work on idea \\n 2. Seek inspiration \\n 3. Rest \\n 4. Work on project \\n 5. Seek sponsor \\n 6. Practice painting techniques \\n\"))\n",
    "                else:\n",
    "                    action = int(input(\" 1. Work on idea \\n 2. Seek inspiration \\n 3. Rest \\n 5. Seek sponsor \\n 6. Practice painting techniques \\n\"))\n",
    "            else:\n",
    "                action = int(input(\" 6. Practice painting techniques \\n 2. Seek inspiration \\n 3. Rest \\n\"))\n",
    "        elif self.ideas > 0:\n",
    "            if self.projects > 0:\n",
    "                action = int(input(\" 1. Work on idea \\n 2. Seek inspiration \\n 3. Rest \\n 4. Work on project \\n 5. Seek sponsor \\n\"))\n",
    "            else:\n",
    "                action = int(input(\" 1. Work on idea \\n 2. Seek inspiration \\n 3. Rest \\n 5. Seek sponsor \\n\"))\n",
    "        else:\n",
    "            action = int(input(\" 2. Seek inspiration \\n 5. Seek sponsor \\n 3. Rest\"))\n",
    "\n",
    "        self.perform_action(action)\n",
    "        \n",
    "        # Update age\n",
    "        self.age += 0.5\n",
    "\n",
    "        # Check for death\n",
    "        lifespan = self.lifespan\n",
    "        if self.age >= lifespan:\n",
    "            print(f\"{self.name} has died at the age of {self.age:.1f} years.\")\n",
    "            self.status = -1\n",
    "        print(self)\n",
    "\n",
    "    def perform_action(self, action):\n",
    "        \"\"\"\n",
    "        Perform the chosen action with probabilistic outcomes.\n",
    "        \"\"\"\n",
    "        success_probability = 0.2+0.7*(self.morale / 100)\n",
    "        if self.passe==0:\n",
    "            success_probability = 0.3+0.6*(self.morale / 100)\n",
    "        success = random.random() < 0.7  # 70% chance of success\n",
    "\n",
    "        if action == 1:  # Work on new idea\n",
    "            if success:\n",
    "                self.projects += 1\n",
    "                self.idea -=1\n",
    "                print(\"You successfully developed the new idea into a project\")\n",
    "                if self.passe == 1:\n",
    "                    self.masterwork_progress += 1\n",
    "            else:\n",
    "                self.morale -= 5\n",
    "                print(\"Failed to develop a new idea. Morale decreased.\")\n",
    "\n",
    "        elif action == 2:  # Seek inspiration\n",
    "            if success:\n",
    "                self.ideas += 1\n",
    "                self.morale = min(100, self.morale + 10)\n",
    "                print(\"You feel inspired! Morale increased.\")\n",
    "            else:\n",
    "                self.morale -= 5\n",
    "                print(\"Failed to find inspiration. Morale decreased.\")\n",
    "\n",
    "        elif action == 3:  # Rest\n",
    "            if success:\n",
    "                self.morale = min(100, self.morale + 5)\n",
    "                print(\"You rested well. Morale slightly increased.\")\n",
    "            else:\n",
    "                self.morale -= 5\n",
    "                print(\"Rest was not effective. Morale decreased.\")\n",
    "\n",
    "        elif action == 4:  # Work on project\n",
    "            if success and self.projects > 0:\n",
    "                print(\"You made progress on your project!\")\n",
    "                if random.random()>0.5:\n",
    "                    self.compositions += 1\n",
    "                else:\n",
    "                    self.color += 1\n",
    "                if self.compositions>0 and self.color>0 and self.funding>0:\n",
    "                    self.projects -= 1\n",
    "                    self.compositions -=1\n",
    "                    self.color -= 1\n",
    "                    self.funding -= 1\n",
    "                    self.works+=1\n",
    "                    print(\"You finished a work!\")\n",
    "            else:\n",
    "                self.morale -= 5\n",
    "                print(\"Failed to make progress on the project. Morale decreased.\")\n",
    "\n",
    "        elif action == 5:  # Seek sponsor\n",
    "            if success:\n",
    "                self.projects += 1\n",
    "                print(\"You found a sponsor and gained a project!\")\n",
    "            else:\n",
    "                self.morale -= 5\n",
    "                print(\"Failed to find a sponsor. Morale decreased.\")\n",
    "\n",
    "        elif action == 6:  # Practice painting techniques\n",
    "            if success:\n",
    "                print(\"Your painting techniques have improved!\")\n",
    "                if self.passe == 1:\n",
    "                    self.masterwork_progress += 1\n",
    "                    self.morale += 5\n",
    "            else:\n",
    "                self.morale -= 5\n",
    "                print(\"Failed to improve your techniques. Morale decreased.\")\n",
    "\n",
    "        if self.morale <= 0:\n",
    "            print(f\"{self.name} has lost all morale and committed suicide. The game ends.\")\n",
    "            self.status = -1\n",
    "\n",
    "    def evaluate_masterwork(self):\n",
    "        \"\"\"\n",
    "        Evaluate the progress of the masterwork after 10 turns.\n",
    "        \"\"\"\n",
    "        if self.masterwork_progress >= 5:\n",
    "            print(f\"Congratulations! {self.name} has successfully completed their masterwork and graduated from apprenticeship.\")\n",
    "            self.passe = 0\n",
    "        else:\n",
    "            print(f\"{self.name} failed to complete their masterwork and committed suicide.\")\n",
    "            self.status = -1\n",
    "\n",
    "    def __str__(self):\n",
    "        \"\"\"\n",
    "        Print status\n",
    "        \"\"\"\n",
    "        return (f\"Name: {self.name}\\n\"\n",
    "                f\"Age: {self.age:.1f}\\n\"\n",
    "                f\"Morale: {self.morale}/100\\n\"\n",
    "                f\"Works: {self.ideas}\")\n",
    "\n",
    "# Example usage of input in Python\n",
    "name = input(\"Enter your character's name: \")\n",
    "print(\"You are a very talented, 10 years old painter apprentice in...\")\n",
    "opt1 = int(input(\" 1: 's-Hertogenbosch (modern Netherlands) \\n 2: Breisach (modern Germany)\\n\"))\n",
    "if opt1 == 1:\n",
    "    bias1 = 1\n",
    "    bias2 = 1\n",
    "    print(\"You work in Hieronymus Bosch's workshop, a very mysterious man. He has told you to focus on oil painting technique\\nas you'll assist him with lesser details in his big paintings. You are expected to complete your masterwork within a five year period.\")\n",
    "else:\n",
    "    bias1 = 0\n",
    "    bias2 = 0\n",
    "    print(\"You work in Martin Schongauer's workshop, a talented printmaker. He has told you to focus on woodcut and engraving technique\\nas you'll assist him with lesser details in his small prints. You are expected to complete your masterwork within a five year period\")\n",
    "\n",
    "character = Character(name, 10, 50, 0, 0, 0, 0, 0, bias1, bias2)\n",
    "\n",
    "for turn in range(10):\n",
    "    if character.status == -1:\n",
    "        break\n",
    "    character.basic_turn()\n",
    "\n",
    "if character.status != -1:\n",
    "    character.evaluate_masterwork()\n",
    "\n",
    "for turn in range(2*int(character.lifespan-10)):\n",
    "    if character.status == -1:\n",
    "        break\n",
    "    character.basic_turn()\n",
    "print(character)\n"
   ]
  },
  {
   "cell_type": "code",
   "execution_count": null,
   "id": "e70f0632-9293-4945-887b-b4ffa56651e4",
   "metadata": {},
   "outputs": [],
   "source": []
  }
 ],
 "metadata": {
  "kernelspec": {
   "display_name": "Python 3 (ipykernel)",
   "language": "python",
   "name": "python3"
  },
  "language_info": {
   "codemirror_mode": {
    "name": "ipython",
    "version": 3
   },
   "file_extension": ".py",
   "mimetype": "text/x-python",
   "name": "python",
   "nbconvert_exporter": "python",
   "pygments_lexer": "ipython3",
   "version": "3.12.2"
  }
 },
 "nbformat": 4,
 "nbformat_minor": 5
}
